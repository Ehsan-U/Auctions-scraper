{
 "cells": [
  {
   "cell_type": "code",
   "execution_count": 15,
   "metadata": {},
   "outputs": [],
   "source": [
    "import time\n",
    "import requests\n",
    "import pandas as pd\n",
    "import PySimpleGUI as sg\n",
    "\n",
    "from typing import List\n",
    "from bs4 import BeautifulSoup\n",
    "from selenium import webdriver\n",
    "from selenium.webdriver.common.by import By\n",
    "from selenium.webdriver.support.ui import Select\n",
    "from selenium.webdriver.support.ui import WebDriverWait\n",
    "from webdriver_manager.chrome import ChromeDriverManager\n",
    "from selenium.webdriver.support import expected_conditions as EC\n",
    "\n",
    "THEME = 'DarkBlack'\n",
    "HEADLESS = False\n",
    "AREA_LIST = ['W', 'R', 'C']\n",
    "\n",
    "sg.theme(THEME)\n",
    "\n",
    "# Create a new instance of the Chrome driver\n",
    "chrome_options = webdriver.ChromeOptions()\n",
    "\n",
    "if HEADLESS:\n",
    "    chrome_options.add_argument('--headless')\n",
    "    chrome_options.add_argument('--no-sandbox')\n",
    "    chrome_options.add_argument('--ignore-certificate-errors-spki-list')\n",
    "    chrome_options.add_argument('--ignore-ssl-errors')"
   ]
  },
  {
   "cell_type": "code",
   "execution_count": 16,
   "metadata": {},
   "outputs": [
    {
     "name": "stderr",
     "output_type": "stream",
     "text": [
      "C:\\Users\\jksoj\\AppData\\Local\\Temp\\ipykernel_9264\\801500143.py:2: DeprecationWarning: executable_path has been deprecated, please pass in a Service object\n",
      "  driver = webdriver.Chrome(ChromeDriverManager().install(), chrome_options= chrome_options)\n",
      "C:\\Users\\jksoj\\AppData\\Local\\Temp\\ipykernel_9264\\801500143.py:2: DeprecationWarning: use options instead of chrome_options\n",
      "  driver = webdriver.Chrome(ChromeDriverManager().install(), chrome_options= chrome_options)\n"
     ]
    }
   ],
   "source": [
    "BASE_URL = 'https://miamidade.realforeclose.com/index.cfm'\n",
    "driver = webdriver.Chrome(ChromeDriverManager().install(), chrome_options= chrome_options)\n",
    "driver.get(BASE_URL)"
   ]
  },
  {
   "cell_type": "code",
   "execution_count": 41,
   "metadata": {},
   "outputs": [],
   "source": [
    "res = requests.get(BASE_URL)\n",
    "soup = BeautifulSoup(res.text, \"lxml\")\n",
    "website_list = []\n",
    "for website in soup.find(\"select\", {\"id\": \"JMP_MENU_SEL\"}).text.split('\\n'):\n",
    "    if webdriver and website.strip():\n",
    "        website_list.append(website.strip())\n",
    "website_list = website_list[1:]"
   ]
  },
  {
   "cell_type": "code",
   "execution_count": 17,
   "metadata": {},
   "outputs": [],
   "source": [
    "website_list = []\n",
    "base_select_website = driver.find_element(By.XPATH, '//select[@id=\"JMP_MENU_SEL\"]')\n",
    "for website in base_select_website.text.split('\\n')[1:]:\n",
    "    if webdriver and website.strip():\n",
    "        website_list.append(website.strip())\n",
    "\n",
    "\n",
    "sg.theme(THEME)   # Add a touch of color\n",
    "# All the stuff inside your window.\n",
    "layout = [  [sg.Text('Select any of the following website:')],\n",
    "            [sg.Combo(values=website_list, key='WEBSITE', size=(75, 6))],\n",
    "            [sg.Button('Ok'), sg.Button('Cancel')] ]\n",
    "\n",
    "# Create the Window\n",
    "window = sg.Window('Select Website', layout)\n",
    "# Event Loop to process \"events\" and get the \"values\" of the inputs\n",
    "while True:\n",
    "    event, values = window.read()\n",
    "\n",
    "    if event == sg.WIN_CLOSED or event == 'Cancel' or event == 'Ok': # if user closes window or clicks cancel\n",
    "        break\n",
    "\n",
    "window.close()\n",
    "select_box = Select(base_select_website)\n",
    "select_box.select_by_visible_text(values[\"WEBSITE\"])\n",
    "WebDriverWait(driver, 10).until(EC.alert_is_present())\n",
    "driver.switch_to.alert.accept()\n",
    "time.sleep(1)\n",
    "PREFIX = \"/\".join(driver.current_url.split('/')[:-1])"
   ]
  },
  {
   "cell_type": "code",
   "execution_count": 18,
   "metadata": {},
   "outputs": [
    {
     "name": "stdout",
     "output_type": "stream",
     "text": [
      "You entered  {0: '2022-12'}\n"
     ]
    }
   ],
   "source": [
    "layout = [  [sg.Text('Select any of the following date:')],\n",
    "            [sg.Text('Enter Date in YYYY-MM format'), sg.InputText()],\n",
    "            [sg.Button('Ok'), sg.Button('Cancel')] ]\n",
    "\n",
    "# Create the Window\n",
    "window = sg.Window('Getting calender', layout)\n",
    "# Event Loop to process \"events\" and get the \"values\" of the inputs\n",
    "\n",
    "while True:\n",
    "    event, values = window.read()\n",
    "    print('You entered ', values)\n",
    "\n",
    "    if event == sg.WIN_CLOSED or event == 'Cancel': # if user closes window or clicks cancel\n",
    "        break\n",
    "    elif event == 'Ok':\n",
    "        if len(values[0]) != 7 or '-' not in values[0]:\n",
    "            print('Enter valid date')\n",
    "        else:\n",
    "            break\n",
    "\n",
    "window.close()\n",
    "cal_start_date = values[0]+'-01'"
   ]
  },
  {
   "cell_type": "code",
   "execution_count": 19,
   "metadata": {},
   "outputs": [],
   "source": [
    "cal_url = f'{PREFIX}/index.cfm?zaction=user&zmethod=calendar&selCalDate=%7Bts%20%27{cal_start_date}%2000%3A00%3A00%27%7D'\n",
    "res = requests.get(cal_url)"
   ]
  },
  {
   "cell_type": "code",
   "execution_count": 20,
   "metadata": {},
   "outputs": [],
   "source": [
    "soup = BeautifulSoup(res.text, \"lxml\")\n",
    "calender = soup.find(\"div\", {\"class\": \"CALDAYBOX\"})"
   ]
  },
  {
   "cell_type": "code",
   "execution_count": 21,
   "metadata": {},
   "outputs": [],
   "source": [
    "final_calender: List[BeautifulSoup] = []\n",
    "for date in calender.find_all(\"div\"):\n",
    "    if len(date.text.strip()) > 5:\n",
    "        final_calender.append(date)"
   ]
  },
  {
   "cell_type": "code",
   "execution_count": 22,
   "metadata": {},
   "outputs": [],
   "source": [
    "user_section = []\n",
    "for date in final_calender:\n",
    "    user_section.append(f'{date.get(\"dayid\")} | {date.text[2:].strip()}')"
   ]
  },
  {
   "cell_type": "code",
   "execution_count": 23,
   "metadata": {},
   "outputs": [
    {
     "data": {
      "text/plain": [
       "['12/01/2022 | Foreclosure0 / 5 FC 11:00 AM ET',\n",
       " '12/05/2022 | Foreclosure0 / 3 FC 11:00 AM ET',\n",
       " '12/06/2022 | Foreclosure0 / 5 FC 11:00 AM ET',\n",
       " '12/07/2022 | Foreclosure0 / 12 FC 11:00 AM ET',\n",
       " '12/08/2022 | Foreclosure0 / 5 FC 11:00 AM ET',\n",
       " '12/12/2022 | Foreclosure0 / 2 FC 11:00 AM ET',\n",
       " '12/13/2022 | Foreclosure3 / 3 FC 11:00 AM ET',\n",
       " '12/14/2022 | Foreclosure2 / 4 FC 11:00 AM ET',\n",
       " '12/15/2022 | Foreclosure3 / 3 FC 11:00 AM ET',\n",
       " '12/16/2022 | Foreclosure0 / 1 FC 11:00 AM ET',\n",
       " '12/19/2022 | Foreclosure2 / 2 FC 11:00 AM ET',\n",
       " '12/20/2022 | Foreclosure1 / 1 FC 11:00 AM ET',\n",
       " '12/21/2022 | Foreclosure1 / 3 FC 11:00 AM ET',\n",
       " '12/22/2022 | Foreclosure1 / 1 FC 11:00 AM ET',\n",
       " '12/27/2022 | Foreclosure1 / 1 FC 11:00 AM ET',\n",
       " '12/28/2022 | Foreclosure1 / 1 FC 11:00 AM ET']"
      ]
     },
     "execution_count": 23,
     "metadata": {},
     "output_type": "execute_result"
    }
   ],
   "source": [
    "user_section"
   ]
  },
  {
   "cell_type": "code",
   "execution_count": 24,
   "metadata": {},
   "outputs": [
    {
     "name": "stdout",
     "output_type": "stream",
     "text": [
      "You entered  12/07/2022 | Foreclosure0 / 12 FC 11:00 AM ET\n"
     ]
    }
   ],
   "source": [
    "sg.theme(THEME)   # Add a touch of color\n",
    "# All the stuff inside your window.\n",
    "layout = [  [sg.Text('Select any of the following date:')],\n",
    "            [sg.Combo(values=user_section, key='DATE', size=(75, 6))],\n",
    "            [sg.Button('Ok'), sg.Button('Cancel')] ]\n",
    "\n",
    "# Create the Window\n",
    "window = sg.Window('Window Title', layout)\n",
    "# Event Loop to process \"events\" and get the \"values\" of the inputs\n",
    "while True:\n",
    "    event, values = window.read()\n",
    "    print('You entered ', values['DATE'])\n",
    "\n",
    "    selected_date = values['DATE'].split('|')[0].strip()\n",
    "    if event == sg.WIN_CLOSED or event == 'Cancel' or event == 'Ok': # if user closes window or clicks cancel\n",
    "        break\n",
    "\n",
    "window.close()"
   ]
  },
  {
   "cell_type": "code",
   "execution_count": 25,
   "metadata": {},
   "outputs": [],
   "source": [
    "BASE_URL_WITH_DATE = f\"{PREFIX}/index.cfm?zaction=AUCTION&Zmethod=PREVIEW&AUCTIONDATE={selected_date}\"\n",
    "driver.get(BASE_URL_WITH_DATE)\n",
    "\n",
    "try:\n",
    "    email = WebDriverWait(driver, 10).until(EC.visibility_of_element_located((By.XPATH,'//div[@isset=\"1\"]')))\n",
    "except:\n",
    "    print('Can not find the auctions.')"
   ]
  },
  {
   "cell_type": "code",
   "execution_count": 26,
   "metadata": {},
   "outputs": [
    {
     "name": "stdout",
     "output_type": "stream",
     "text": [
      "can not get AREA_LIST:W\n",
      "can not get AREA_LIST:R\n",
      "C 2 //div[@class=\"Head_C\"]//span[@id=\"maxCA\"]\n"
     ]
    }
   ],
   "source": [
    "all_auctions = []\n",
    "for area in AREA_LIST:\n",
    "    try:\n",
    "        max_pages = int(driver.find_element(By.XPATH, f'//div[@class=\"Head_{area}\"]//span[@id=\"max{area}A\"]').text)\n",
    "    except:\n",
    "        print(f'can not get AREA_LIST:{area}')\n",
    "        continue\n",
    "    \n",
    "    print(area, max_pages, f'//div[@class=\"Head_{area}\"]//span[@id=\"maxCA\"]')\n",
    "    for i in range(max_pages):\n",
    "        collected_auctions_status = driver.find_elements(By.XPATH, f'//div[@id=\"Area_{area}\"]//div[@isset=\"1\"]//div[@class=\"AUCTION_STATS\"]')\n",
    "        collected_auctions_details = driver.find_elements(By.XPATH, f'//div[@id=\"Area_{area}\"]//div[@isset=\"1\"]//table[@class=\"ad_tab\"]')\n",
    "\n",
    "        if collected_auctions_status and collected_auctions_details:\n",
    "            for status, detail in zip(collected_auctions_status, collected_auctions_details):\n",
    "                all_auctions.append((status.text, detail.text))\n",
    "\n",
    "            driver.find_element(By.XPATH, f'//div[@class=\"Head_{area}\"]//div[@class=\"PageFrame\"]//span[@class=\"PageRight\"]/img').click()\n",
    "            time.sleep(2)"
   ]
  },
  {
   "cell_type": "code",
   "execution_count": 37,
   "metadata": {},
   "outputs": [],
   "source": [
    "data:List[dict] = []\n",
    "for status, detail in all_auctions:\n",
    "    details = {}\n",
    "\n",
    "    for key, value in zip(status.split('\\n')[::2], status.split('\\n')[1::2]):\n",
    "        details[key] = value.strip()\n",
    "    \n",
    "    prev = \"\"\n",
    "    for key_value in detail.split('\\n'):\n",
    "        if \":\" in key_value:\n",
    "            key, value = key_value.split(':')\n",
    "            details[key] = value.strip()\n",
    "            prev = key\n",
    "        else:\n",
    "            details[prev] += \" \\n\" + key_value.strip()\n",
    "    \n",
    "    data.append(details)\n"
   ]
  },
  {
   "cell_type": "code",
   "execution_count": 39,
   "metadata": {},
   "outputs": [],
   "source": [
    "pd.DataFrame(data).to_excel('out.xlsx')"
   ]
  },
  {
   "cell_type": "code",
   "execution_count": 50,
   "metadata": {},
   "outputs": [
    {
     "data": {
      "text/plain": [
       "'duval_12/07/2022'"
      ]
     },
     "execution_count": 50,
     "metadata": {},
     "output_type": "execute_result"
    }
   ],
   "source": [
    "website_name = PREFIX.split('/')[-1].split('.')[0]\n",
    "f'{website_name}_{selected_date}'"
   ]
  },
  {
   "cell_type": "code",
   "execution_count": null,
   "metadata": {},
   "outputs": [],
   "source": []
  }
 ],
 "metadata": {
  "kernelspec": {
   "display_name": "Python 3.9.6 64-bit",
   "language": "python",
   "name": "python3"
  },
  "language_info": {
   "codemirror_mode": {
    "name": "ipython",
    "version": 3
   },
   "file_extension": ".py",
   "mimetype": "text/x-python",
   "name": "python",
   "nbconvert_exporter": "python",
   "pygments_lexer": "ipython3",
   "version": "3.9.6"
  },
  "orig_nbformat": 4,
  "vscode": {
   "interpreter": {
    "hash": "fe7312f5761002e631c02ca3b439170183688b0207f29b7f5a3898b93192b317"
   }
  }
 },
 "nbformat": 4,
 "nbformat_minor": 2
}
